{
 "cells": [
  {
   "cell_type": "markdown",
   "id": "25d7736c-ba17-4aff-b6bb-66eba20fbf4e",
   "metadata": {},
   "source": [
    "# Lab | Functions"
   ]
  },
  {
   "cell_type": "markdown",
   "id": "0c581062-8967-4d93-b06e-62833222f930",
   "metadata": {
    "tags": []
   },
   "source": [
    "## Exercise: Managing Customer Orders with Functions\n",
    "\n",
    "In the previous exercise, you improved the code for managing customer orders by using loops and flow control. Now, let's take it a step further and refactor the code by introducing functions.\n",
    "\n",
    "Follow the steps below to complete the exercise:\n",
    "\n",
    "1. Define a function named `initialize_inventory` that takes `products` as a parameter. Inside the function, implement the code for initializing the inventory dictionary using a loop and user input.\n",
    "\n",
    "2. Define a function named `get_customer_orders` that takes no parameters. Inside the function, implement the code for prompting the user to enter the product names using a loop. The function should return the `customer_orders` set.\n",
    "\n",
    "3. Define a function named `update_inventory` that takes `customer_orders` and `inventory` as parameters. Inside the function, implement the code for updating the inventory dictionary based on the customer orders.\n",
    "\n",
    "4. Define a function named `calculate_order_statistics` that takes `customer_orders` and `products` as parameters. Inside the function, implement the code for calculating the order statistics (total products ordered, and percentage of unique products ordered). The function should return these values.\n",
    "\n",
    "5. Define a function named `print_order_statistics` that takes `order_statistics` as a parameter. Inside the function, implement the code for printing the order statistics.\n",
    "\n",
    "6. Define a function named `print_updated_inventory` that takes `inventory` as a parameter. Inside the function, implement the code for printing the updated inventory.\n",
    "\n",
    "7. Call the functions in the appropriate sequence to execute the program and manage customer orders.\n",
    "\n",
    "Hints for functions:\n",
    "\n",
    "- Consider the input parameters required for each function and their return values.\n",
    "- Utilize function parameters and return values to transfer data between functions.\n",
    "- Test your functions individually to ensure they work correctly.\n",
    "\n",
    "\n"
   ]
  },
  {
   "cell_type": "code",
   "execution_count": 11,
   "id": "5f5b5221-217a-4cde-ab26-2ba8be00847c",
   "metadata": {},
   "outputs": [
    {
     "name": "stdin",
     "output_type": "stream",
     "text": [
      "Enter the quantity for t-shirt:  5\n",
      "Enter the quantity for mug:  4\n",
      "Enter the quantity for hat:  5\n",
      "Enter the quantity for book:  4\n",
      "Enter the quantity for keychain:  5\n"
     ]
    },
    {
     "data": {
      "text/plain": [
       "{'t-shirt': 5, 'mug': 4, 'hat': 5, 'book': 4, 'keychain': 5}"
      ]
     },
     "execution_count": 11,
     "metadata": {},
     "output_type": "execute_result"
    }
   ],
   "source": [
    "#1. Define a function named initialize_inventory that takes products as a parameter. \n",
    "# Inside the function, implement the code for initializing the inventory dictionary using a loop and user input.\n",
    "\n",
    "def initialize_inventory(products):\n",
    "    f_inventory = {}\n",
    "    for product in products: \n",
    "        user_quantity = int(input(f\"Enter the quantity for {product}: \"))\n",
    "        f_inventory[product] = user_quantity\n",
    "    return f_inventory\n",
    "\n",
    "products = [\"t-shirt\", \"mug\", \"hat\", \"book\", \"keychain\"] \n",
    "inventory = initialize_inventory(products)\n",
    "inventory"
   ]
  },
  {
   "cell_type": "code",
   "execution_count": 14,
   "id": "86f03dcb-efb5-4a14-b4d4-15c99b55a676",
   "metadata": {},
   "outputs": [
    {
     "name": "stdin",
     "output_type": "stream",
     "text": [
      "Enter the name of a product the customer wants to order:  hat\n",
      "Do you want to add another product (yes/no) mug\n",
      "Didn't understand. Please repeat. Do you want to add another product (yes/no) kettle\n",
      "Enter the name of a product the customer wants to order:  candle\n",
      "Do you want to add another product (yes/no) kettle\n",
      "Didn't understand. Please repeat. Do you want to add another product (yes/no) yes\n",
      "Enter the name of a product the customer wants to order:  kettke\n",
      "Do you want to add another product (yes/no) no\n"
     ]
    }
   ],
   "source": [
    "#2. Define a function named get_customer_orders that takes no parameters. \n",
    "# Inside the function, implement the code for prompting the user to enter the product names using a loop. \n",
    "# The function should return the customer_orders set.\n",
    "def get_customer_orders():\n",
    "    more_products = \"yes\"\n",
    "    customer_orders = set()\n",
    "    while more_products != \"no\":\n",
    "        user_product = input(\"Enter the name of a product the customer wants to order: \")\n",
    "        customer_orders.add(user_product)\n",
    "        more_products = input(\"Do you want to add another product (yes/no)\")\n",
    "        if more_products == \"yes\":\n",
    "            pass\n",
    "        elif more_products == \"no\":\n",
    "            pass\n",
    "        else:\n",
    "            more_products = input(\"Didn't understand. Please repeat. Do you want to add another product (yes/no)\")\n",
    "    return customer_orders\n",
    "\n",
    "customer_orders = get_customer_orders()"
   ]
  },
  {
   "cell_type": "markdown",
   "id": "d13cf17c-17e5-42f5-bde5-e230c35763bb",
   "metadata": {},
   "source": [
    "3. Define a function named update_inventory that takes customer_orders and inventory as parameters. \n",
    "Inside the function, implement the code for updating the inventory dictionary based on the customer orders."
   ]
  },
  {
   "cell_type": "code",
   "execution_count": 35,
   "id": "252b01ae-6e2d-499b-a8e2-ac152d6ca685",
   "metadata": {},
   "outputs": [
    {
     "data": {
      "text/plain": [
       "{'t-shirt': 5,\n",
       " 'mug': 4,\n",
       " 'hat': 0,\n",
       " 'book': 4,\n",
       " 'keychain': 5,\n",
       " 'candle': 0,\n",
       " 'kettke': 0}"
      ]
     },
     "execution_count": 35,
     "metadata": {},
     "output_type": "execute_result"
    }
   ],
   "source": [
    "def update_inventory(customer_orders, inventory):\n",
    "    for product in customer_orders:\n",
    "        inventory [product] = 0\n",
    "    return inventory\n",
    "\n",
    "update_inventory(customer_orders,inventory)"
   ]
  },
  {
   "cell_type": "markdown",
   "id": "0a05e91e-028c-4cbf-9ead-22c22727c2cd",
   "metadata": {},
   "source": [
    "4. Define a function named 'calculate_order_statistics' that takes 'customer_orders' and 'products' as parameters. \n",
    "Inside the function, implement the code for calculating the order statistics (total products ordered, and percentage of unique products ordered). \n",
    "The function should return these values."
   ]
  },
  {
   "cell_type": "code",
   "execution_count": 20,
   "id": "241a47d6-3996-41b4-8441-e7307b8f5f92",
   "metadata": {},
   "outputs": [
    {
     "name": "stdout",
     "output_type": "stream",
     "text": [
      "3\n",
      "0.42857142857142855\n"
     ]
    }
   ],
   "source": [
    "\n",
    "def calculate_order_statistics (customer_orders, products):\n",
    "    total_products_ordered = len(customer_orders)\n",
    "\n",
    "    total_products = 0\n",
    "    for product in inventory:\n",
    "        total_products += 1\n",
    "    percentage = total_products_ordered / total_products\n",
    "    return total_products_ordered, percentage\n",
    "\n",
    "x,y = calculate_order_statistics(customer_orders, products)\n",
    "print(x)\n",
    "print(y)\n"
   ]
  },
  {
   "cell_type": "markdown",
   "id": "8c16e1d8-1153-44ed-bf0a-8e44416b507d",
   "metadata": {},
   "source": [
    "5. Define a function named print_order_statistics that takes order_statistics as a parameter. Inside the function, implement the code for printing the order statistics"
   ]
  },
  {
   "cell_type": "code",
   "execution_count": 25,
   "id": "591a8b6b-c452-41c1-9893-43eb3a170a7e",
   "metadata": {},
   "outputs": [
    {
     "name": "stdout",
     "output_type": "stream",
     "text": [
      "Order Statistics: \n",
      "Total Products Ordered: 3\n",
      "Percentage of Products Ordered: 0.429%\n"
     ]
    }
   ],
   "source": [
    "def print_order_statistics(order_statistics):\n",
    "    rounded_percentage = round(percentage, 3\n",
    "                              )\n",
    "    print(\"Order Statistics: \")\n",
    "    print(\"Total Products Ordered:\", total_products_ordered)\n",
    "    print(f\"Percentage of Products Ordered: {rounded_percentage}%\")\n",
    "\n",
    "print_order_statistics(calculate_order_statistics)\n"
   ]
  },
  {
   "cell_type": "markdown",
   "id": "11e02ea3-f1fd-4156-9957-63adc3e2b543",
   "metadata": {},
   "source": [
    "6. Define a function named print_updated_inventory that takes inventory as a parameter. Inside the function, implement the code for printing the updated inventory."
   ]
  },
  {
   "cell_type": "code",
   "execution_count": 29,
   "id": "9983c38f-9a32-4bf7-8dcb-2b417e1529c1",
   "metadata": {},
   "outputs": [
    {
     "name": "stdout",
     "output_type": "stream",
     "text": [
      "{'t-shirt': 5, 'mug': 4, 'hat': 0, 'book': 4, 'keychain': 5, 'candle': 0, 'kettke': 0}\n"
     ]
    }
   ],
   "source": [
    "def print_updated_inventory(inventory):\n",
    "    print(inventory)\n",
    "\n",
    "print_updated_inventory(inventory)"
   ]
  },
  {
   "cell_type": "markdown",
   "id": "1e2f6662-a331-46fb-b4d7-46094ce0967e",
   "metadata": {},
   "source": [
    "7. Call the functions in the appropriate sequence to execute the program and manage customer orders."
   ]
  },
  {
   "cell_type": "code",
   "execution_count": 36,
   "id": "6c841de1-e9da-4378-b896-60bf5686168e",
   "metadata": {},
   "outputs": [
    {
     "name": "stdin",
     "output_type": "stream",
     "text": [
      "Enter the quantity for t-shirt:  4\n",
      "Enter the quantity for mug:  5\n",
      "Enter the quantity for hat:  6\n",
      "Enter the quantity for book:  87\n",
      "Enter the quantity for keychain:  5\n",
      "Enter the name of a product the customer wants to order:  kettle\n",
      "Do you want to add another product (yes/no) yes\n",
      "Enter the name of a product the customer wants to order:  candle\n",
      "Do you want to add another product (yes/no) yes\n",
      "Enter the name of a product the customer wants to order:  glasses\n",
      "Do you want to add another product (yes/no) no\n"
     ]
    },
    {
     "name": "stdout",
     "output_type": "stream",
     "text": [
      "Order Statistics: \n",
      "Total Products Ordered: 3\n",
      "Percentage of Products Ordered: 0.429%\n",
      "{'t-shirt': 4, 'mug': 5, 'hat': 6, 'book': 87, 'keychain': 5, 'candle': 0, 'kettle': 0, 'glasses': 0}\n"
     ]
    }
   ],
   "source": [
    "inventory = initialize_inventory(products)\n",
    "customer_orders = get_customer_orders()\n",
    "update_inventory(customer_orders,inventory)\n",
    "calculate_order_statistics (customer_orders, products)\n",
    "print_order_statistics(calculate_order_statistics)\n",
    "print_updated_inventory(inventory)"
   ]
  }
 ],
 "metadata": {
  "kernelspec": {
   "display_name": "Python 3 (ipykernel)",
   "language": "python",
   "name": "python3"
  },
  "language_info": {
   "codemirror_mode": {
    "name": "ipython",
    "version": 3
   },
   "file_extension": ".py",
   "mimetype": "text/x-python",
   "name": "python",
   "nbconvert_exporter": "python",
   "pygments_lexer": "ipython3",
   "version": "3.13.1"
  }
 },
 "nbformat": 4,
 "nbformat_minor": 5
}
